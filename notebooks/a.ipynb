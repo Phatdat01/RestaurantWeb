{
 "cells": [
  {
   "cell_type": "code",
   "execution_count": 1,
   "metadata": {},
   "outputs": [],
   "source": [
    "from pyspark.sql import Window\n",
    "from pyspark.sql.window import *\n",
    "from pyspark.sql.functions import *\n",
    "from pyspark.sql.types import *\n",
    "from pyspark.ml.recommendation import ALSModel"
   ]
  },
  {
   "cell_type": "code",
   "execution_count": 3,
   "metadata": {},
   "outputs": [
    {
     "name": "stderr",
     "output_type": "stream",
     "text": [
      "your 131072x1 screen size is bogus. expect trouble\n"
     ]
    },
    {
     "name": "stdout",
     "output_type": "stream",
     "text": [
      "23/04/12 01:58:17 WARN Utils: Your hostname, DESKTOP-HJGMIR0 resolves to a loopback address: 127.0.1.1; using 172.24.176.133 instead (on interface eth0)\n",
      "23/04/12 01:58:17 WARN Utils: Set SPARK_LOCAL_IP if you need to bind to another address\n"
     ]
    },
    {
     "name": "stderr",
     "output_type": "stream",
     "text": [
      "Setting default log level to \"WARN\".\n",
      "To adjust logging level use sc.setLogLevel(newLevel). For SparkR, use setLogLevel(newLevel).\n"
     ]
    },
    {
     "name": "stdout",
     "output_type": "stream",
     "text": [
      "23/04/12 01:58:27 WARN NativeCodeLoader: Unable to load native-hadoop library for your platform... using builtin-java classes where applicable\n"
     ]
    }
   ],
   "source": [
    "import findspark\n",
    "\n",
    "# findspark.init()\n",
    "\n",
    "from pyspark.sql import SparkSession\n",
    "spark = SparkSession.builder \\\n",
    "    .appName(\"MyApp\") \\\n",
    "    .master(\"local\") \\\n",
    "    .getOrCreate()"
   ]
  },
  {
   "attachments": {},
   "cell_type": "markdown",
   "metadata": {},
   "source": [
    "## Test recommender"
   ]
  },
  {
   "cell_type": "code",
   "execution_count": 5,
   "metadata": {},
   "outputs": [],
   "source": [
    "als_model = ALSModel.load(\"../data/save\")"
   ]
  },
  {
   "cell_type": "code",
   "execution_count": 9,
   "metadata": {},
   "outputs": [
    {
     "name": "stderr",
     "output_type": "stream",
     "text": [
      "                                                                                \r"
     ]
    },
    {
     "name": "stdout",
     "output_type": "stream",
     "text": [
      "+------+----------+---------+\n",
      "|userid|businessid|   rating|\n",
      "+------+----------+---------+\n",
      "|    15|    145879| 5.664754|\n",
      "|    15|     49206| 5.655204|\n",
      "|    15|     62843|5.6471815|\n",
      "|    15|    146680|5.3232384|\n",
      "|    15|    140227|5.2772846|\n",
      "+------+----------+---------+\n",
      "\n"
     ]
    }
   ],
   "source": [
    "userid = [ [15]]\n",
    "\n",
    "useridColumns = StructType([StructField(\"userid\", IntegerType())])\n",
    "deptDF = spark.createDataFrame(data=userid, schema = useridColumns)\n",
    "\n",
    "userSubsetRecs = als_model.recommendForUserSubset(deptDF, 5)\n",
    "nrecommendations = userSubsetRecs\\\n",
    "    .withColumn(\"rec_exp\", explode(\"recommendations\"))\\\n",
    "    .select('userid', col(\"rec_exp.businessid\"), col(\"rec_exp.rating\"))\n",
    "\n",
    "nrecommendations.show()"
   ]
  },
  {
   "attachments": {},
   "cell_type": "markdown",
   "metadata": {},
   "source": [
    "## Sample not use"
   ]
  },
  {
   "cell_type": "code",
   "execution_count": 7,
   "metadata": {},
   "outputs": [],
   "source": [
    "business = spark.read.json(\"../../temp/yelp_json_yelp_academic_dataset_business.json\")\n",
    "review = spark.read.json(\"../../temp/yelp_json_yelp_academic_dataset_review.json\")\n",
    "user = spark.read.json(\"../../temp/yelp_json_yelp_academic_dataset_user.json\")"
   ]
  },
  {
   "cell_type": "code",
   "execution_count": 17,
   "metadata": {},
   "outputs": [],
   "source": [
    "userRatings=review.groupBy(\"user_id\").count()\n",
    "window = Window.orderBy(col('user_id'))\n",
    "userRatings = userRatings.withColumn('userid', row_number().over(window))\n",
    "buiRatings=review.groupBy(\"business_id\").count()\n",
    "window = Window.orderBy(col('business_id'))\n",
    "buiRatings = buiRatings.withColumn('businessid', row_number().over(window))\n",
    "newratings=review.join(userRatings, ['user_id'])\n",
    "newratings=newratings.join(buiRatings, ['business_id'])\n",
    "newratings=newratings.withColumn(\"stars\",col(\"stars\").cast(IntegerType()))\n",
    "newratings=newratings.withColumn(\"date\",to_timestamp(\"date\"))"
   ]
  },
  {
   "cell_type": "code",
   "execution_count": 19,
   "metadata": {},
   "outputs": [],
   "source": [
    "model=ALSModel.load(\"D:\\Movie_Recommendation\\data\\save\")"
   ]
  },
  {
   "cell_type": "code",
   "execution_count": 35,
   "metadata": {},
   "outputs": [
    {
     "name": "stdout",
     "output_type": "stream",
     "text": [
      "+------+--------------------+-------------------+\n",
      "|userid|     recommendations|            rec_exp|\n",
      "+------+--------------------+-------------------+\n",
      "|     2|[{35182, 7.335038...| {35182, 7.3350387}|\n",
      "|     2|[{35182, 7.335038...|{140227, 7.2798605}|\n",
      "|     2|[{35182, 7.335038...|  {62843, 7.273821}|\n",
      "|     2|[{35182, 7.335038...| {46174, 7.1696444}|\n",
      "|     2|[{35182, 7.335038...| {102258, 6.989647}|\n",
      "+------+--------------------+-------------------+\n",
      "\n"
     ]
    }
   ],
   "source": [
    "userid = [ [2]]\n",
    "\n",
    "useridColumns = StructType([StructField(\"userid\", IntegerType())])\n",
    "deptDF = spark.createDataFrame(data=userid, schema = useridColumns)\n",
    "\n",
    "userSubsetRecs = model.recommendForUserSubset(deptDF, 5)\n",
    "nrecommendations = userSubsetRecs\\\n",
    "    .withColumn(\"rec_exp\", explode(\"recommendations\"))\\\n",
    "    .select('userid', col(\"rec_exp.businessid\"), col(\"rec_exp.rating\"))\n",
    "\n",
    "nrecommendations.show()"
   ]
  },
  {
   "cell_type": "code",
   "execution_count": null,
   "metadata": {},
   "outputs": [],
   "source": []
  }
 ],
 "metadata": {
  "kernelspec": {
   "display_name": "Python 3",
   "language": "python",
   "name": "python3"
  },
  "language_info": {
   "codemirror_mode": {
    "name": "ipython",
    "version": 3
   },
   "file_extension": ".py",
   "mimetype": "text/x-python",
   "name": "python",
   "nbconvert_exporter": "python",
   "pygments_lexer": "ipython3",
   "version": "3.10.6"
  },
  "orig_nbformat": 4
 },
 "nbformat": 4,
 "nbformat_minor": 2
}
